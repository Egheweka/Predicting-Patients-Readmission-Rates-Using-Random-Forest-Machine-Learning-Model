{
 "cells": [
  {
   "cell_type": "code",
   "execution_count": 1,
   "id": "c4f6ac97-17be-458a-9658-9512c85fabe2",
   "metadata": {
    "tags": []
   },
   "outputs": [],
   "source": [
    "from google.cloud import bigquery\n",
    "client = bigquery.Client"
   ]
  },
  {
   "cell_type": "code",
   "execution_count": 2,
   "id": "1cead699-ed2a-4ae2-ae97-4aa0c65fa395",
   "metadata": {
    "tags": []
   },
   "outputs": [
    {
     "name": "stdout",
     "output_type": "stream",
     "text": [
      "Requirement already satisfied: pandas-gbq in /opt/conda/lib/python3.10/site-packages (0.23.1)\n",
      "Requirement already satisfied: setuptools in /opt/conda/lib/python3.10/site-packages (from pandas-gbq) (71.0.4)\n",
      "Requirement already satisfied: db-dtypes<2.0.0,>=1.0.4 in /opt/conda/lib/python3.10/site-packages (from pandas-gbq) (1.2.0)\n",
      "Requirement already satisfied: numpy>=1.16.6 in /opt/conda/lib/python3.10/site-packages (from pandas-gbq) (1.25.2)\n",
      "Requirement already satisfied: pandas>=1.1.4 in /opt/conda/lib/python3.10/site-packages (from pandas-gbq) (2.0.3)\n",
      "Requirement already satisfied: pyarrow>=3.0.0 in /opt/conda/lib/python3.10/site-packages (from pandas-gbq) (14.0.2)\n",
      "Requirement already satisfied: pydata-google-auth>=1.5.0 in /opt/conda/lib/python3.10/site-packages (from pandas-gbq) (1.8.2)\n",
      "Requirement already satisfied: google-api-core<3.0.0dev,>=2.10.2 in /opt/conda/lib/python3.10/site-packages (from pandas-gbq) (2.19.2)\n",
      "Requirement already satisfied: google-auth>=2.13.0 in /opt/conda/lib/python3.10/site-packages (from pandas-gbq) (2.32.0)\n",
      "Requirement already satisfied: google-auth-oauthlib>=0.7.0 in /opt/conda/lib/python3.10/site-packages (from pandas-gbq) (1.2.1)\n",
      "Requirement already satisfied: google-cloud-bigquery<4.0.0dev,>=3.3.5 in /opt/conda/lib/python3.10/site-packages (from pandas-gbq) (3.25.0)\n",
      "Requirement already satisfied: packaging>=20.0.0 in /opt/conda/lib/python3.10/site-packages (from pandas-gbq) (24.1)\n",
      "Requirement already satisfied: googleapis-common-protos<2.0.dev0,>=1.56.2 in /opt/conda/lib/python3.10/site-packages (from google-api-core<3.0.0dev,>=2.10.2->pandas-gbq) (1.63.2)\n",
      "Requirement already satisfied: protobuf!=3.20.0,!=3.20.1,!=4.21.0,!=4.21.1,!=4.21.2,!=4.21.3,!=4.21.4,!=4.21.5,<6.0.0.dev0,>=3.19.5 in /opt/conda/lib/python3.10/site-packages (from google-api-core<3.0.0dev,>=2.10.2->pandas-gbq) (3.20.3)\n",
      "Requirement already satisfied: proto-plus<2.0.0dev,>=1.22.3 in /opt/conda/lib/python3.10/site-packages (from google-api-core<3.0.0dev,>=2.10.2->pandas-gbq) (1.24.0)\n",
      "Requirement already satisfied: requests<3.0.0.dev0,>=2.18.0 in /opt/conda/lib/python3.10/site-packages (from google-api-core<3.0.0dev,>=2.10.2->pandas-gbq) (2.32.3)\n",
      "Requirement already satisfied: cachetools<6.0,>=2.0.0 in /opt/conda/lib/python3.10/site-packages (from google-auth>=2.13.0->pandas-gbq) (5.4.0)\n",
      "Requirement already satisfied: pyasn1-modules>=0.2.1 in /opt/conda/lib/python3.10/site-packages (from google-auth>=2.13.0->pandas-gbq) (0.4.0)\n",
      "Requirement already satisfied: rsa<5,>=3.1.4 in /opt/conda/lib/python3.10/site-packages (from google-auth>=2.13.0->pandas-gbq) (4.9)\n",
      "Requirement already satisfied: requests-oauthlib>=0.7.0 in /opt/conda/lib/python3.10/site-packages (from google-auth-oauthlib>=0.7.0->pandas-gbq) (2.0.0)\n",
      "Requirement already satisfied: google-cloud-core<3.0.0dev,>=1.6.0 in /opt/conda/lib/python3.10/site-packages (from google-cloud-bigquery<4.0.0dev,>=3.3.5->pandas-gbq) (2.4.1)\n",
      "Requirement already satisfied: google-resumable-media<3.0dev,>=0.6.0 in /opt/conda/lib/python3.10/site-packages (from google-cloud-bigquery<4.0.0dev,>=3.3.5->pandas-gbq) (2.7.1)\n",
      "Requirement already satisfied: python-dateutil<3.0dev,>=2.7.2 in /opt/conda/lib/python3.10/site-packages (from google-cloud-bigquery<4.0.0dev,>=3.3.5->pandas-gbq) (2.9.0)\n",
      "Requirement already satisfied: pytz>=2020.1 in /opt/conda/lib/python3.10/site-packages (from pandas>=1.1.4->pandas-gbq) (2024.1)\n",
      "Requirement already satisfied: tzdata>=2022.1 in /opt/conda/lib/python3.10/site-packages (from pandas>=1.1.4->pandas-gbq) (2024.1)\n",
      "Requirement already satisfied: grpcio<2.0dev,>=1.33.2 in /opt/conda/lib/python3.10/site-packages (from google-api-core[grpc]!=2.0.*,!=2.1.*,!=2.10.*,!=2.2.*,!=2.3.*,!=2.4.*,!=2.5.*,!=2.6.*,!=2.7.*,!=2.8.*,!=2.9.*,<3.0.0dev,>=1.34.1->google-cloud-bigquery<4.0.0dev,>=3.3.5->pandas-gbq) (1.65.1)\n",
      "Requirement already satisfied: grpcio-status<2.0.dev0,>=1.33.2 in /opt/conda/lib/python3.10/site-packages (from google-api-core[grpc]!=2.0.*,!=2.1.*,!=2.10.*,!=2.2.*,!=2.3.*,!=2.4.*,!=2.5.*,!=2.6.*,!=2.7.*,!=2.8.*,!=2.9.*,<3.0.0dev,>=1.34.1->google-cloud-bigquery<4.0.0dev,>=3.3.5->pandas-gbq) (1.48.2)\n",
      "Requirement already satisfied: google-crc32c<2.0dev,>=1.0 in /opt/conda/lib/python3.10/site-packages (from google-resumable-media<3.0dev,>=0.6.0->google-cloud-bigquery<4.0.0dev,>=3.3.5->pandas-gbq) (1.5.0)\n",
      "Requirement already satisfied: pyasn1<0.7.0,>=0.4.6 in /opt/conda/lib/python3.10/site-packages (from pyasn1-modules>=0.2.1->google-auth>=2.13.0->pandas-gbq) (0.6.0)\n",
      "Requirement already satisfied: six>=1.5 in /opt/conda/lib/python3.10/site-packages (from python-dateutil<3.0dev,>=2.7.2->google-cloud-bigquery<4.0.0dev,>=3.3.5->pandas-gbq) (1.16.0)\n",
      "Requirement already satisfied: charset-normalizer<4,>=2 in /opt/conda/lib/python3.10/site-packages (from requests<3.0.0.dev0,>=2.18.0->google-api-core<3.0.0dev,>=2.10.2->pandas-gbq) (3.3.2)\n",
      "Requirement already satisfied: idna<4,>=2.5 in /opt/conda/lib/python3.10/site-packages (from requests<3.0.0.dev0,>=2.18.0->google-api-core<3.0.0dev,>=2.10.2->pandas-gbq) (3.7)\n",
      "Requirement already satisfied: urllib3<3,>=1.21.1 in /opt/conda/lib/python3.10/site-packages (from requests<3.0.0.dev0,>=2.18.0->google-api-core<3.0.0dev,>=2.10.2->pandas-gbq) (1.26.19)\n",
      "Requirement already satisfied: certifi>=2017.4.17 in /opt/conda/lib/python3.10/site-packages (from requests<3.0.0.dev0,>=2.18.0->google-api-core<3.0.0dev,>=2.10.2->pandas-gbq) (2024.7.4)\n",
      "Requirement already satisfied: oauthlib>=3.0.0 in /opt/conda/lib/python3.10/site-packages (from requests-oauthlib>=0.7.0->google-auth-oauthlib>=0.7.0->pandas-gbq) (3.2.2)\n",
      "Note: you may need to restart the kernel to use updated packages.\n"
     ]
    }
   ],
   "source": [
    "pip install pandas-gbq"
   ]
  },
  {
   "cell_type": "code",
   "execution_count": 3,
   "id": "f0485e71-1dbd-44eb-b22c-59cb42eb8528",
   "metadata": {
    "tags": []
   },
   "outputs": [
    {
     "name": "stdout",
     "output_type": "stream",
     "text": [
      "Requirement already satisfied: google-cloud-bigquery in /opt/conda/lib/python3.10/site-packages (3.25.0)\n",
      "Requirement already satisfied: google-api-core!=2.0.*,!=2.1.*,!=2.10.*,!=2.2.*,!=2.3.*,!=2.4.*,!=2.5.*,!=2.6.*,!=2.7.*,!=2.8.*,!=2.9.*,<3.0.0dev,>=1.34.1 in /opt/conda/lib/python3.10/site-packages (from google-api-core[grpc]!=2.0.*,!=2.1.*,!=2.10.*,!=2.2.*,!=2.3.*,!=2.4.*,!=2.5.*,!=2.6.*,!=2.7.*,!=2.8.*,!=2.9.*,<3.0.0dev,>=1.34.1->google-cloud-bigquery) (2.19.2)\n",
      "Requirement already satisfied: google-auth<3.0.0dev,>=2.14.1 in /opt/conda/lib/python3.10/site-packages (from google-cloud-bigquery) (2.32.0)\n",
      "Requirement already satisfied: google-cloud-core<3.0.0dev,>=1.6.0 in /opt/conda/lib/python3.10/site-packages (from google-cloud-bigquery) (2.4.1)\n",
      "Requirement already satisfied: google-resumable-media<3.0dev,>=0.6.0 in /opt/conda/lib/python3.10/site-packages (from google-cloud-bigquery) (2.7.1)\n",
      "Requirement already satisfied: packaging>=20.0.0 in /opt/conda/lib/python3.10/site-packages (from google-cloud-bigquery) (24.1)\n",
      "Requirement already satisfied: python-dateutil<3.0dev,>=2.7.2 in /opt/conda/lib/python3.10/site-packages (from google-cloud-bigquery) (2.9.0)\n",
      "Requirement already satisfied: requests<3.0.0dev,>=2.21.0 in /opt/conda/lib/python3.10/site-packages (from google-cloud-bigquery) (2.32.3)\n",
      "Requirement already satisfied: googleapis-common-protos<2.0.dev0,>=1.56.2 in /opt/conda/lib/python3.10/site-packages (from google-api-core!=2.0.*,!=2.1.*,!=2.10.*,!=2.2.*,!=2.3.*,!=2.4.*,!=2.5.*,!=2.6.*,!=2.7.*,!=2.8.*,!=2.9.*,<3.0.0dev,>=1.34.1->google-api-core[grpc]!=2.0.*,!=2.1.*,!=2.10.*,!=2.2.*,!=2.3.*,!=2.4.*,!=2.5.*,!=2.6.*,!=2.7.*,!=2.8.*,!=2.9.*,<3.0.0dev,>=1.34.1->google-cloud-bigquery) (1.63.2)\n",
      "Requirement already satisfied: protobuf!=3.20.0,!=3.20.1,!=4.21.0,!=4.21.1,!=4.21.2,!=4.21.3,!=4.21.4,!=4.21.5,<6.0.0.dev0,>=3.19.5 in /opt/conda/lib/python3.10/site-packages (from google-api-core!=2.0.*,!=2.1.*,!=2.10.*,!=2.2.*,!=2.3.*,!=2.4.*,!=2.5.*,!=2.6.*,!=2.7.*,!=2.8.*,!=2.9.*,<3.0.0dev,>=1.34.1->google-api-core[grpc]!=2.0.*,!=2.1.*,!=2.10.*,!=2.2.*,!=2.3.*,!=2.4.*,!=2.5.*,!=2.6.*,!=2.7.*,!=2.8.*,!=2.9.*,<3.0.0dev,>=1.34.1->google-cloud-bigquery) (3.20.3)\n",
      "Requirement already satisfied: proto-plus<2.0.0dev,>=1.22.3 in /opt/conda/lib/python3.10/site-packages (from google-api-core!=2.0.*,!=2.1.*,!=2.10.*,!=2.2.*,!=2.3.*,!=2.4.*,!=2.5.*,!=2.6.*,!=2.7.*,!=2.8.*,!=2.9.*,<3.0.0dev,>=1.34.1->google-api-core[grpc]!=2.0.*,!=2.1.*,!=2.10.*,!=2.2.*,!=2.3.*,!=2.4.*,!=2.5.*,!=2.6.*,!=2.7.*,!=2.8.*,!=2.9.*,<3.0.0dev,>=1.34.1->google-cloud-bigquery) (1.24.0)\n",
      "Requirement already satisfied: grpcio<2.0dev,>=1.33.2 in /opt/conda/lib/python3.10/site-packages (from google-api-core[grpc]!=2.0.*,!=2.1.*,!=2.10.*,!=2.2.*,!=2.3.*,!=2.4.*,!=2.5.*,!=2.6.*,!=2.7.*,!=2.8.*,!=2.9.*,<3.0.0dev,>=1.34.1->google-cloud-bigquery) (1.65.1)\n",
      "Requirement already satisfied: grpcio-status<2.0.dev0,>=1.33.2 in /opt/conda/lib/python3.10/site-packages (from google-api-core[grpc]!=2.0.*,!=2.1.*,!=2.10.*,!=2.2.*,!=2.3.*,!=2.4.*,!=2.5.*,!=2.6.*,!=2.7.*,!=2.8.*,!=2.9.*,<3.0.0dev,>=1.34.1->google-cloud-bigquery) (1.48.2)\n",
      "Requirement already satisfied: cachetools<6.0,>=2.0.0 in /opt/conda/lib/python3.10/site-packages (from google-auth<3.0.0dev,>=2.14.1->google-cloud-bigquery) (5.4.0)\n",
      "Requirement already satisfied: pyasn1-modules>=0.2.1 in /opt/conda/lib/python3.10/site-packages (from google-auth<3.0.0dev,>=2.14.1->google-cloud-bigquery) (0.4.0)\n",
      "Requirement already satisfied: rsa<5,>=3.1.4 in /opt/conda/lib/python3.10/site-packages (from google-auth<3.0.0dev,>=2.14.1->google-cloud-bigquery) (4.9)\n",
      "Requirement already satisfied: google-crc32c<2.0dev,>=1.0 in /opt/conda/lib/python3.10/site-packages (from google-resumable-media<3.0dev,>=0.6.0->google-cloud-bigquery) (1.5.0)\n",
      "Requirement already satisfied: six>=1.5 in /opt/conda/lib/python3.10/site-packages (from python-dateutil<3.0dev,>=2.7.2->google-cloud-bigquery) (1.16.0)\n",
      "Requirement already satisfied: charset-normalizer<4,>=2 in /opt/conda/lib/python3.10/site-packages (from requests<3.0.0dev,>=2.21.0->google-cloud-bigquery) (3.3.2)\n",
      "Requirement already satisfied: idna<4,>=2.5 in /opt/conda/lib/python3.10/site-packages (from requests<3.0.0dev,>=2.21.0->google-cloud-bigquery) (3.7)\n",
      "Requirement already satisfied: urllib3<3,>=1.21.1 in /opt/conda/lib/python3.10/site-packages (from requests<3.0.0dev,>=2.21.0->google-cloud-bigquery) (1.26.19)\n",
      "Requirement already satisfied: certifi>=2017.4.17 in /opt/conda/lib/python3.10/site-packages (from requests<3.0.0dev,>=2.21.0->google-cloud-bigquery) (2024.7.4)\n",
      "Requirement already satisfied: pyasn1<0.7.0,>=0.4.6 in /opt/conda/lib/python3.10/site-packages (from pyasn1-modules>=0.2.1->google-auth<3.0.0dev,>=2.14.1->google-cloud-bigquery) (0.6.0)\n",
      "Note: you may need to restart the kernel to use updated packages.\n"
     ]
    }
   ],
   "source": [
    "pip install google-cloud-bigquery"
   ]
  },
  {
   "cell_type": "code",
   "execution_count": 4,
   "id": "0522c39a-dc84-4391-9e3d-a870d89c26af",
   "metadata": {
    "tags": []
   },
   "outputs": [],
   "source": [
    "import pandas as pd\n",
    "import pandas_gbq\n",
    "from google.cloud import bigquery\n",
    "import matplotlib.pyplot as plt\n",
    "import seaborn as sns"
   ]
  },
  {
   "cell_type": "code",
   "execution_count": 5,
   "id": "2428c7f2-7a27-4dd0-a94c-d69c984492e5",
   "metadata": {
    "tags": []
   },
   "outputs": [
    {
     "name": "stderr",
     "output_type": "stream",
     "text": [
      "/opt/conda/lib/python3.10/site-packages/google/auth/_default.py:76: UserWarning: Your application has authenticated using end user credentials from Google Cloud SDK without a quota project. You might receive a \"quota exceeded\" or \"API not enabled\" error. See the following page for troubleshooting: https://cloud.google.com/docs/authentication/adc-troubleshooting/user-creds. \n",
      "  warnings.warn(_CLOUD_SDK_CREDENTIALS_WARNING)\n",
      "/opt/conda/lib/python3.10/site-packages/google/auth/_default.py:76: UserWarning: Your application has authenticated using end user credentials from Google Cloud SDK without a quota project. You might receive a \"quota exceeded\" or \"API not enabled\" error. See the following page for troubleshooting: https://cloud.google.com/docs/authentication/adc-troubleshooting/user-creds. \n",
      "  warnings.warn(_CLOUD_SDK_CREDENTIALS_WARNING)\n"
     ]
    }
   ],
   "source": [
    "# Initialize BigQuery client\n",
    "client = bigquery.Client()"
   ]
  },
  {
   "cell_type": "code",
   "execution_count": 6,
   "id": "d58b15bf-697f-4ef0-bf7d-2c3ba6217b50",
   "metadata": {
    "tags": []
   },
   "outputs": [],
   "source": [
    "# Run SQL query\n",
    "query = \"\"\"\n",
    "SELECT *\n",
    "FROM \n",
    "  `yhcr-prd-bradfor-bia-core.CB_2514_Analysis_Tables.PredictionModel`\n",
    "\"\"\""
   ]
  },
  {
   "cell_type": "code",
   "execution_count": 7,
   "id": "7d8e3220-e89d-4445-8361-55e32d2ca976",
   "metadata": {
    "tags": []
   },
   "outputs": [
    {
     "name": "stderr",
     "output_type": "stream",
     "text": [
      "/opt/conda/lib/python3.10/site-packages/google/auth/_default.py:76: UserWarning: Your application has authenticated using end user credentials from Google Cloud SDK without a quota project. You might receive a \"quota exceeded\" or \"API not enabled\" error. See the following page for troubleshooting: https://cloud.google.com/docs/authentication/adc-troubleshooting/user-creds. \n",
      "  warnings.warn(_CLOUD_SDK_CREDENTIALS_WARNING)\n"
     ]
    },
    {
     "name": "stdout",
     "output_type": "stream",
     "text": [
      "Downloading: 100%|\u001b[32m██████████\u001b[0m|\n",
      "        person_id  age  gender  ethnicity ctv3code  \\\n",
      "0             197   17       0          7    XaAnp   \n",
      "1             230   59       0          7    XaAlZ   \n",
      "2             272   20       0          0    XaaCX   \n",
      "3             272   20       0          0    XaaCX   \n",
      "4             406  101       0          0    XaAkj   \n",
      "...           ...  ...     ...        ...      ...   \n",
      "981632   14989081    2    <NA>          0    XaNUL   \n",
      "981633   15032782    1    <NA>          7    XaNUL   \n",
      "981634   15033417    1    <NA>          7    XaNUL   \n",
      "981635   15036451   65       0          0    XaNUL   \n",
      "981636   16768699   53       1          0    XaNUL   \n",
      "\n",
      "                                                 ctv3text FirstEventDate  \\\n",
      "0                       Discharge from orthoptics service     2012-09-03   \n",
      "1             Discharge from respiratory medicine service     2019-07-22   \n",
      "2       Discharge from child and adolescent mental hea...     2019-10-03   \n",
      "3       Discharge from child and adolescent mental hea...     2019-10-03   \n",
      "4                   Discharge by hospital-based dietitian     1999-01-06   \n",
      "...                                                   ...            ...   \n",
      "981632  Discharged by general practitioner with specia...     2023-10-26   \n",
      "981633  Discharged by general practitioner with specia...     2023-09-21   \n",
      "981634  Discharged by general practitioner with specia...     2023-09-21   \n",
      "981635  Discharged by general practitioner with specia...     2023-06-14   \n",
      "981636  Discharged by general practitioner with specia...     2023-09-05   \n",
      "\n",
      "       NextEventDate  DaysBetweenEvents  ReadmissionStatus  \n",
      "0               None                  0                  0  \n",
      "1               None                  0                  0  \n",
      "2         2019-10-03                  0                  1  \n",
      "3         2020-07-21                292                  0  \n",
      "4               None                  0                  0  \n",
      "...              ...                ...                ...  \n",
      "981632          None                  0                  0  \n",
      "981633          None                  0                  0  \n",
      "981634          None                  0                  0  \n",
      "981635          None                  0                  0  \n",
      "981636    2023-09-05                  0                  1  \n",
      "\n",
      "[981637 rows x 10 columns]\n"
     ]
    }
   ],
   "source": [
    "# Read data from BigQuery into DataFrame\n",
    "df = pandas_gbq.read_gbq(query, project_id='yhcr-prd-bradfor-bia-core')\n",
    "\n",
    "# Display DataFrame\n",
    "print(df)"
   ]
  },
  {
   "cell_type": "code",
   "execution_count": 8,
   "id": "63b102b1-31fd-4c86-a989-2eb096c5555e",
   "metadata": {
    "tags": []
   },
   "outputs": [],
   "source": [
    "# Step 2: Remove rows where 'gender_source_value' is NA\n",
    "df= df.dropna(subset=['gender'])\n",
    "# Step 3: Save the cleaned DataFrame to a CSV file\n",
    "df.to_csv('cleaned_data_after_gender_drop.csv', index=False)"
   ]
  },
  {
   "cell_type": "code",
   "execution_count": 9,
   "id": "0b997783-da8b-4c31-b474-08e8ce626702",
   "metadata": {
    "tags": []
   },
   "outputs": [
    {
     "name": "stdout",
     "output_type": "stream",
     "text": [
      "        person_id  age  gender  ethnicity ctv3code  \\\n",
      "0             197   17       0          7    XaAnp   \n",
      "1             230   59       0          7    XaAlZ   \n",
      "2             272   20       0          0    XaaCX   \n",
      "3             272   20       0          0    XaaCX   \n",
      "4             406  101       0          0    XaAkj   \n",
      "...           ...  ...     ...        ...      ...   \n",
      "981629   14789932    2       1          8    XaNUL   \n",
      "981630   14794573   48       1          0    XaNUL   \n",
      "981631   14947040   81       1          0    XaNUL   \n",
      "981635   15036451   65       0          0    XaNUL   \n",
      "981636   16768699   53       1          0    XaNUL   \n",
      "\n",
      "                                                 ctv3text FirstEventDate  \\\n",
      "0                       Discharge from orthoptics service     2012-09-03   \n",
      "1             Discharge from respiratory medicine service     2019-07-22   \n",
      "2       Discharge from child and adolescent mental hea...     2019-10-03   \n",
      "3       Discharge from child and adolescent mental hea...     2019-10-03   \n",
      "4                   Discharge by hospital-based dietitian     1999-01-06   \n",
      "...                                                   ...            ...   \n",
      "981629  Discharged by general practitioner with specia...     2023-08-11   \n",
      "981630  Discharged by general practitioner with specia...     2022-12-30   \n",
      "981631  Discharged by general practitioner with specia...     2023-04-11   \n",
      "981635  Discharged by general practitioner with specia...     2023-06-14   \n",
      "981636  Discharged by general practitioner with specia...     2023-09-05   \n",
      "\n",
      "       NextEventDate  DaysBetweenEvents  ReadmissionStatus  \n",
      "0               None                  0                  0  \n",
      "1               None                  0                  0  \n",
      "2         2019-10-03                  0                  1  \n",
      "3         2020-07-21                292                  0  \n",
      "4               None                  0                  0  \n",
      "...              ...                ...                ...  \n",
      "981629    2023-08-11                  0                  1  \n",
      "981630    2022-12-30                  0                  1  \n",
      "981631    2023-04-11                  0                  1  \n",
      "981635          None                  0                  0  \n",
      "981636    2023-09-05                  0                  1  \n",
      "\n",
      "[976318 rows x 10 columns]\n"
     ]
    }
   ],
   "source": [
    "# To drop duplicates\n",
    "print(df.drop_duplicates())"
   ]
  },
  {
   "cell_type": "code",
   "execution_count": 10,
   "id": "1d28c812-0ec8-43f2-b8f4-ae7ee0c68724",
   "metadata": {
    "tags": []
   },
   "outputs": [
    {
     "name": "stdout",
     "output_type": "stream",
     "text": [
      "   person_id  age  gender  ethnicity ctv3code  \\\n",
      "0        197   17       0          7    XaAnp   \n",
      "1        230   59       0          7    XaAlZ   \n",
      "2        272   20       0          0    XaaCX   \n",
      "3        272   20       0          0    XaaCX   \n",
      "4        406  101       0          0    XaAkj   \n",
      "\n",
      "                                            ctv3text FirstEventDate  \\\n",
      "0                  Discharge from orthoptics service     2012-09-03   \n",
      "1        Discharge from respiratory medicine service     2019-07-22   \n",
      "2  Discharge from child and adolescent mental hea...     2019-10-03   \n",
      "3  Discharge from child and adolescent mental hea...     2019-10-03   \n",
      "4              Discharge by hospital-based dietitian     1999-01-06   \n",
      "\n",
      "  NextEventDate  DaysBetweenEvents  ReadmissionStatus  \n",
      "0          None                  0                  0  \n",
      "1          None                  0                  0  \n",
      "2    2019-10-03                  0                  1  \n",
      "3    2020-07-21                292                  0  \n",
      "4          None                  0                  0  \n"
     ]
    }
   ],
   "source": [
    "# Display the first 5 rows of the DataFrame\n",
    "print(df.head())"
   ]
  },
  {
   "cell_type": "code",
   "execution_count": 11,
   "id": "e06dbeb1-234a-4ca5-838e-52cae4404406",
   "metadata": {
    "tags": []
   },
   "outputs": [
    {
     "name": "stdout",
     "output_type": "stream",
     "text": [
      "            person_id        age    gender  ethnicity  DaysBetweenEvents  \\\n",
      "count        976318.0   976318.0  976318.0   976318.0           976318.0   \n",
      "mean   12200742.59929  52.994738  0.439918   1.517291         531.494546   \n",
      "std    3112305.572509  26.854471  0.496377   2.886286        1200.323933   \n",
      "min              33.0        1.0       0.0        0.0                0.0   \n",
      "25%        12627509.0       32.0       0.0        0.0                0.0   \n",
      "50%        13010825.0       53.0       0.0        0.0                0.0   \n",
      "75%        13394746.0       75.0       1.0        0.0              490.0   \n",
      "max        16827749.0      129.0       1.0       10.0            33713.0   \n",
      "\n",
      "       ReadmissionStatus  \n",
      "count           976318.0  \n",
      "mean            0.118332  \n",
      "std             0.323001  \n",
      "min                  0.0  \n",
      "25%                  0.0  \n",
      "50%                  0.0  \n",
      "75%                  0.0  \n",
      "max                  1.0  \n"
     ]
    }
   ],
   "source": [
    "# Descriptive statistics for numerical columns\n",
    "print(df.describe())"
   ]
  },
  {
   "cell_type": "code",
   "execution_count": 12,
   "id": "6d0ab820-3768-489b-9652-0904bba33b3c",
   "metadata": {
    "tags": []
   },
   "outputs": [
    {
     "name": "stdout",
     "output_type": "stream",
     "text": [
      "<class 'pandas.core.frame.DataFrame'>\n",
      "Index: 976318 entries, 0 to 981636\n",
      "Data columns (total 10 columns):\n",
      " #   Column             Non-Null Count   Dtype \n",
      "---  ------             --------------   ----- \n",
      " 0   person_id          976318 non-null  Int64 \n",
      " 1   age                976318 non-null  Int64 \n",
      " 2   gender             976318 non-null  Int64 \n",
      " 3   ethnicity          976318 non-null  Int64 \n",
      " 4   ctv3code           976318 non-null  object\n",
      " 5   ctv3text           976318 non-null  object\n",
      " 6   FirstEventDate     976318 non-null  object\n",
      " 7   NextEventDate      527016 non-null  object\n",
      " 8   DaysBetweenEvents  976318 non-null  Int64 \n",
      " 9   ReadmissionStatus  976318 non-null  Int64 \n",
      "dtypes: Int64(6), object(4)\n",
      "memory usage: 87.5+ MB\n",
      "None\n"
     ]
    }
   ],
   "source": [
    "# Summary of the DataFrame\n",
    "print(df.info())"
   ]
  },
  {
   "cell_type": "code",
   "execution_count": 14,
   "id": "dc817fa7-49b4-4791-b263-0ab89af67fa1",
   "metadata": {
    "tags": []
   },
   "outputs": [
    {
     "name": "stdout",
     "output_type": "stream",
     "text": [
      "\n",
      "Missing values in each column:\n",
      "person_id                 0\n",
      "age                       0\n",
      "gender                    0\n",
      "ethnicity                 0\n",
      "ctv3code                  0\n",
      "ctv3text                  0\n",
      "FirstEventDate            0\n",
      "NextEventDate        449302\n",
      "DaysBetweenEvents         0\n",
      "ReadmissionStatus         0\n",
      "dtype: int64\n"
     ]
    }
   ],
   "source": [
    "# Step 4: Check for missing values\n",
    "print(\"\\nMissing values in each column:\")\n",
    "print(df.isnull().sum())"
   ]
  },
  {
   "cell_type": "code",
   "execution_count": 15,
   "id": "f39288fc-2995-42b8-a1c5-224fc05da717",
   "metadata": {
    "tags": []
   },
   "outputs": [
    {
     "name": "stdout",
     "output_type": "stream",
     "text": [
      "\n",
      "Gender distribution:\n",
      "gender\n",
      "0    546818\n",
      "1    429500\n",
      "Name: count, dtype: Int64\n"
     ]
    }
   ],
   "source": [
    "# Step 6: Frequency distribution for categorical variables\n",
    "print(\"\\nGender distribution:\")\n",
    "print(df['gender'].value_counts())"
   ]
  },
  {
   "cell_type": "code",
   "execution_count": 16,
   "id": "8560490d-830d-4500-adab-ebcdcc8d63af",
   "metadata": {
    "tags": []
   },
   "outputs": [
    {
     "name": "stdout",
     "output_type": "stream",
     "text": [
      "\n",
      "Ethnicity distribution:\n",
      "ethnicity\n",
      "0     760670\n",
      "7     178316\n",
      "6      16600\n",
      "8      10903\n",
      "10      2984\n",
      "2       2807\n",
      "1       1680\n",
      "4       1321\n",
      "3        640\n",
      "5        397\n",
      "Name: count, dtype: Int64\n"
     ]
    }
   ],
   "source": [
    "print(\"\\nEthnicity distribution:\")\n",
    "print(df['ethnicity'].value_counts())"
   ]
  },
  {
   "cell_type": "code",
   "execution_count": 18,
   "id": "2d86ddb3-c574-4f31-b013-4edbe578bf18",
   "metadata": {
    "tags": []
   },
   "outputs": [],
   "source": [
    "import seaborn as sns\n",
    "import matplotlib.pyplot as plt"
   ]
  },
  {
   "cell_type": "code",
   "execution_count": 22,
   "id": "c7d591d4-fbba-4a08-b5a7-a24cffefee18",
   "metadata": {
    "tags": []
   },
   "outputs": [],
   "source": [
    "# Step 1: Count the occurrences of each gender value\n",
    "gender_counts = df['gender'].value_counts()"
   ]
  },
  {
   "cell_type": "code",
   "execution_count": 23,
   "id": "3b2dc606-334b-4969-b6bb-041e2b95d6d0",
   "metadata": {
    "tags": []
   },
   "outputs": [
    {
     "data": {
      "text/plain": [
       "<Axes: xlabel='gender'>"
      ]
     },
     "execution_count": 23,
     "metadata": {},
     "output_type": "execute_result"
    },
    {
     "data": {
      "image/png": "[encoded data removed]",
      "text/plain": [
       "<Figure size 800x600 with 1 Axes>"
      ]
     },
     "metadata": {},
     "output_type": "display_data"
    }
   ],
   "source": [
    "# Step 2: Create a bar plot\n",
    "plt.figure(figsize=(8, 6))\n",
    "sns.barplot(x=gender_counts.index, y=gender_counts.values, palette='coolwarm')"
   ]
  },
  {
   "cell_type": "code",
   "execution_count": 29,
   "id": "3610b70c-d94b-4f0f-8bd1-db5345a00e78",
   "metadata": {
    "tags": []
   },
   "outputs": [],
   "source": [
    "# Step 1: Count the occurrences of each ethnicity value\n",
    "ethnicity_counts = df['ethnicity'].value_counts()"
   ]
  },
  {
   "cell_type": "code",
   "execution_count": 30,
   "id": "01ab4bb3-b21d-435c-9b3c-c030728b44b0",
   "metadata": {
    "tags": []
   },
   "outputs": [
    {
     "data": {
      "text/plain": [
       "<Axes: xlabel='ethnicity'>"
      ]
     },
     "execution_count": 30,
     "metadata": {},
     "output_type": "execute_result"
    },
    {
     "data": {
      "image/png": "[encoded data removed]",
      "text/plain": [
       "<Figure size 1000x600 with 1 Axes>"
      ]
     },
     "metadata": {},
     "output_type": "display_data"
    }
   ],
   "source": [
    "# Step 2: Create a bar plot\n",
    "plt.figure(figsize=(10, 6))  # Set the figure size\n",
    "sns.barplot(x=ethnicity_counts.index, y=ethnicity_counts.values, palette='viridis')"
   ]
  },
  {
   "cell_type": "code",
   "execution_count": null,
   "id": "ed5ffff0-455c-4a72-b443-52705aac6881",
   "metadata": {},
   "outputs": [],
   "source": []
  }
 ],
 "metadata": {
  "environment": {
   "kernel": "python3",
   "name": "r-cpu.m124",
   "type": "gcloud",
   "uri": "us-docker.pkg.dev/deeplearning-platform-release/gcr.io/r-cpu:m124"
  },
  "kernelspec": {
   "display_name": "Python 3",
   "language": "python",
   "name": "python3"
  },
  "language_info": {
   "codemirror_mode": {
    "name": "ipython",
    "version": 3
   },
   "file_extension": ".py",
   "mimetype": "text/x-python",
   "name": "python",
   "nbconvert_exporter": "python",
   "pygments_lexer": "ipython3",
   "version": "3.10.14"
  }
 },
 "nbformat": 4,
 "nbformat_minor": 5
}
